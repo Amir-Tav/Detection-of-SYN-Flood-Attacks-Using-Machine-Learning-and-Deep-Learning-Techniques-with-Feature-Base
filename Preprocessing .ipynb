{
 "cells": [
  {
   "cell_type": "markdown",
   "metadata": {},
   "source": [
    "## pre-processing"
   ]
  },
  {
   "cell_type": "markdown",
   "metadata": {},
   "source": [
    "### DB 1: https://www.kaggle.com/datasets/andrewmvd/steam-reviews/data\n"
   ]
  },
  {
   "cell_type": "code",
   "execution_count": 1,
   "metadata": {},
   "outputs": [],
   "source": [
    "import pandas as pd\n",
    "\n",
    "#loading the data\n",
    "file_path = \"Data\\Source\\DB1.csv\" \n",
    "df = pd.read_csv(file_path)\n",
    "\n",
    "\n",
    "# Randomly select 10,000 rows from London data\n",
    "db1_sample  = df.sample(n=10000, random_state=42)\n",
    "\n",
    "#saving it as CSV\n",
    "output_path = \"Data/DB-1.csv\"\n",
    "db1_sample.to_csv(output_path, index= False)"
   ]
  },
  {
   "cell_type": "markdown",
   "metadata": {},
   "source": [
    "### DB 2: https://www.kaggle.com/datasets/najzeko/steam-reviews-2021"
   ]
  },
  {
   "cell_type": "code",
   "execution_count": 2,
   "metadata": {},
   "outputs": [],
   "source": [
    "#loading the data\n",
    "file_path = \"Data\\Source\\DB2.csv\" \n",
    "df = pd.read_csv(file_path)\n",
    "\n",
    "\n",
    "# Randomly select 10,000 rows from London data\n",
    "db2_sample = df.sample(n=10000, random_state=42)\n",
    "\n",
    "#saving it as CSV\n",
    "output_path = \"Data/DB-2.csv\"\n",
    "db2_sample.to_csv(output_path, index= False)\n"
   ]
  },
  {
   "cell_type": "markdown",
   "metadata": {},
   "source": [
    "## Merging DB1 and DB2 to create DB-final"
   ]
  },
  {
   "cell_type": "code",
   "execution_count": null,
   "metadata": {},
   "outputs": [],
   "source": [
    "# Load both datasets\n",
    "df1 = pd.read_csv(\"Data\\DB-1.csv\")\n",
    "df2 = pd.read_csv(\"Data\\DB-2.csv\")\n",
    "\n",
    "# Merge datasets on 'app_id' and 'app_name', keeping all columns (28 in total)\n",
    "db_final = pd.merge(df1, df2, on='app_id', how='outer')\n",
    "\n",
    "# Save the merged dataset\n",
    "output_path = \"Data/DB-final.csv\"\n",
    "db_final.to_csv(output_path, index=False)\n"
   ]
  }
 ],
 "metadata": {
  "kernelspec": {
   "display_name": "steam",
   "language": "python",
   "name": "python3"
  },
  "language_info": {
   "codemirror_mode": {
    "name": "ipython",
    "version": 3
   },
   "file_extension": ".py",
   "mimetype": "text/x-python",
   "name": "python",
   "nbconvert_exporter": "python",
   "pygments_lexer": "ipython3",
   "version": "3.11.9"
  }
 },
 "nbformat": 4,
 "nbformat_minor": 2
}
