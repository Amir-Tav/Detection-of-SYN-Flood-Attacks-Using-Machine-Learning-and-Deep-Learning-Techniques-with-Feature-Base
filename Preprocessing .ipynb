{
 "cells": [
  {
   "cell_type": "markdown",
   "metadata": {},
   "source": [
    "## pre-processing\n",
    "\n",
    "the only pre-processing that has been done using python was to randomly select 70%, 20% and 10% for training, testing and evaluation respectively."
   ]
  },
  {
   "cell_type": "code",
   "execution_count": null,
   "metadata": {},
   "outputs": [],
   "source": [
    "import pandas as pd\n",
    "from sklearn.model_selection import train_test_split\n",
    "import os\n",
    "\n",
    "# Load the dataset\n",
    "file_path = \"Data\\SYN.csv\"\n",
    "df = pd.read_csv(file_path)\n",
    "\n",
    "# First, split into train (70%) and temp (30%)\n",
    "train_df, temp_df = train_test_split(df, test_size=0.3, random_state=42, shuffle=True)\n",
    "\n",
    "# Then, split temp into test (20%) and eval (10%)\n",
    "test_df, eval_df = train_test_split(temp_df, test_size=1/3, random_state=42, shuffle=True)\n",
    "\n",
    "# Create output directory\n",
    "output_dir = \"Data\\Splits\"\n",
    "os.makedirs(output_dir, exist_ok=True)\n",
    "\n",
    "# Save each split to CSV\n",
    "train_df.to_csv(os.path.join(output_dir, \"train.csv\"), index=False)\n",
    "test_df.to_csv(os.path.join(output_dir, \"test.csv\"), index=False)\n",
    "eval_df.to_csv(os.path.join(output_dir, \"eval.csv\"), index=False)\n",
    "\n",
    "print(\"Dataset split and saved successfully:\")\n",
    "print(f\"Training set: {len(train_df)} samples\")\n",
    "print(f\"Testing set: {len(test_df)} samples\")\n",
    "print(f\"Evaluation set: {len(eval_df)} samples\")\n"
   ]
  }
 ],
 "metadata": {
  "kernelspec": {
   "display_name": "syn",
   "language": "python",
   "name": "python3"
  },
  "language_info": {
   "codemirror_mode": {
    "name": "ipython",
    "version": 3
   },
   "file_extension": ".py",
   "mimetype": "text/x-python",
   "name": "python",
   "nbconvert_exporter": "python",
   "pygments_lexer": "ipython3",
   "version": "3.10.5"
  }
 },
 "nbformat": 4,
 "nbformat_minor": 2
}
