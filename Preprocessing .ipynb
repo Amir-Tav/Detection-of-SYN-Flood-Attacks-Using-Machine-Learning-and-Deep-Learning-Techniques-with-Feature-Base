{
 "cells": [
  {
   "cell_type": "markdown",
   "metadata": {},
   "source": [
    "## data selection \n"
   ]
  },
  {
   "cell_type": "code",
   "execution_count": null,
   "metadata": {},
   "outputs": [],
   "source": [
    "import pandas as pd\n",
    "# Load the original dataset\n",
    "df = pd.read_csv('../CIC-DDoS2019.csv')\n",
    "\n",
    "# Filter by the label names BENIGN and SYN\n",
    "label_BENIGN = df[df['Label'] == 'BENIGN']\n",
    "label_SYN = df[df['Label'] == 'SYN']\n",
    "\n",
    "# Randomly sample 5000 rows from each\n",
    "sample_BENIGN = label_BENIGN.sample(n=5000, random_state=42)\n",
    "sample_SYN = label_SYN.sample(n=5000, random_state=42)\n",
    "\n",
    "# Combine and shuffle\n",
    "balanced_df = pd.concat([sample_BENIGN, sample_SYN])\n",
    "balanced_df = balanced_df.sample(frac=1, random_state=42).reset_index(drop=True)\n",
    "\n",
    "# Save the filtered and balanced dataset\n",
    "balanced_df.to_csv('balanced_filtered_dataset.csv', index=False)\n",
    "\n",
    "print(\"Filtered and balanced dataset saved as 'balanced_filtered_dataset.csv'\")\n"
   ]
  }
 ],
 "metadata": {
  "kernelspec": {
   "display_name": "syn",
   "language": "python",
   "name": "python3"
  },
  "language_info": {
   "codemirror_mode": {
    "name": "ipython",
    "version": 3
   },
   "file_extension": ".py",
   "mimetype": "text/x-python",
   "name": "python",
   "nbconvert_exporter": "python",
   "pygments_lexer": "ipython3",
   "version": "3.11.9"
  }
 },
 "nbformat": 4,
 "nbformat_minor": 2
}
