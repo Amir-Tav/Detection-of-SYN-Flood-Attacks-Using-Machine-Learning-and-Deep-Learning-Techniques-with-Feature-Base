{
 "cells": [
  {
   "cell_type": "markdown",
   "metadata": {},
   "source": [
    "## Machine learning Model\n",
    "\n",
    "* in this file we will be attempting to create a Machine Learning model that is able to identify and predict SYN flood from normal network communication."
   ]
  },
  {
   "cell_type": "markdown",
   "metadata": {},
   "source": [
    "### Model Pseudocode"
   ]
  },
  {
   "cell_type": "code",
   "execution_count": 1,
   "metadata": {},
   "outputs": [],
   "source": [
    "# BEGIN\n",
    "\n",
    "# 1. Load dataset\n",
    "#    - Separate features (X) and labels (y)\n",
    "\n",
    "# 2. Set up 5-fold cross-validation\n",
    "#    - Use StratifiedKFold to maintain class balance\n",
    "\n",
    "# 3. Define SVM model with:\n",
    "#    - RBF kernel\n",
    "#    - C = 10.0\n",
    "#    - gamma = 'auto'\n",
    "#    - class_weight = 'balanced'\n",
    "\n",
    "# 4. For each fold:\n",
    "#    a. Split data into training and validation sets\n",
    "#    b. Train SVM on training set\n",
    "#    c. Predict on validation set\n",
    "#    d. Evaluate performance (e.g. accuracy)\n",
    "#    e. Save results\n",
    "\n",
    "# 5. Calculate and print average accuracy across all folds\n",
    "\n",
    "# END\n"
   ]
  },
  {
   "cell_type": "markdown",
   "metadata": {},
   "source": [
    "## Step1: Select and Load the Dataset"
   ]
  },
  {
   "cell_type": "code",
   "execution_count": 2,
   "metadata": {},
   "outputs": [
    {
     "name": "stdout",
     "output_type": "stream",
     "text": [
      "Features shape: (9604, 13)\n",
      "Labels shape: (9604,)\n"
     ]
    }
   ],
   "source": [
    "import pandas as pd\n",
    "\n",
    "# Load the preprocessed and normalized dataset\n",
    "df = pd.read_csv('D:\\Coding Projects\\Detection-of-SYN-Flood-Attacks-Using-Machine-Learning-and-Deep-Learning-Techniques-with-Feature-Base\\Data\\K5_Dataset.csv')\n",
    "\n",
    "# Separate features and label\n",
    "X = df.drop('Label', axis=1)\n",
    "y = df['Label']\n",
    "\n",
    "# Check the shapes\n",
    "print(f'Features shape: {X.shape}')\n",
    "print(f'Labels shape: {y.shape}')"
   ]
  },
  {
   "cell_type": "markdown",
   "metadata": {},
   "source": [
    "## Step 2: Define SVM Model and Hyperparameters    "
   ]
  },
  {
   "cell_type": "code",
   "execution_count": 3,
   "metadata": {},
   "outputs": [],
   "source": [
    "from sklearn.svm import SVC\n",
    "\n",
    "svm_model = SVC(\n",
    "    C=10.0,               \n",
    "    kernel='rbf',         \n",
    "    gamma='auto',           \n",
    "    class_weight=None,    \n",
    "    probability=True,      \n",
    "    cache_size=500,\n",
    "    tol=1e-4,              \n",
    "    shrinking=True,\n",
    "    decision_function_shape='ovr',\n",
    "    random_state=42\n",
    ")"
   ]
  },
  {
   "cell_type": "markdown",
   "metadata": {},
   "source": [
    "## Step 3: Model Training with Cross-Validation + Resource Management"
   ]
  },
  {
   "cell_type": "code",
   "execution_count": null,
   "metadata": {},
   "outputs": [
    {
     "name": "stdout",
     "output_type": "stream",
     "text": [
      "\n",
      "Training fold 0...\n",
      "Fold 0 Accuracy: 0.9282\n",
      "\n",
      "Training fold 1...\n",
      "Fold 1 Accuracy: 0.9256\n",
      "\n",
      "Training fold 2...\n",
      "Fold 2 Accuracy: 0.9297\n",
      "\n",
      "Training fold 3...\n",
      "Fold 3 Accuracy: 0.9261\n",
      "\n",
      "Training fold 4...\n",
      "Fold 4 Accuracy: 0.9250\n",
      "\n",
      "Overall SVM Training Stats\n",
      "Total Training Time: 48.01 seconds\n",
      "Total RAM Usage Increase: 0.63 MB\n",
      "CPU Usage (at final check): 7.6%\n"
     ]
    }
   ],
   "source": [
    "import time\n",
    "import psutil\n",
    "import os\n",
    "from sklearn.metrics import accuracy_score\n",
    "\n",
    "fold_accuracies = []\n",
    "true_label = []\n",
    "pred_label = []\n",
    "fold_results = []\n",
    "\n",
    "process = psutil.Process(os.getpid())\n",
    "\n",
    "# Resource Monitoring Start \n",
    "start_time_count = time.time()\n",
    "start_ram_count = process.memory_info().rss / 1024 / 1024  # in MB\n",
    "start_cpu_count = psutil.cpu_percent(interval=1)\n",
    "\n",
    "for fold in range(0, 5): \n",
    "    print(f'\\nTraining fold {fold}...')\n",
    "\n",
    "    train_idx = df[df['Fold'] != fold].index\n",
    "    val_idx = df[df['Fold'] == fold].index\n",
    "\n",
    "    X_train, X_val = X.iloc[train_idx], X.iloc[val_idx]\n",
    "    y_train, y_val = y.iloc[train_idx], y.iloc[val_idx]\n",
    "\n",
    "    # Train model\n",
    "    svm_model.fit(X_train, y_train)\n",
    "\n",
    "    # Predict\n",
    "    y_pred = svm_model.predict(X_val)\n",
    "    y_scores = svm_model.decision_function(X_val)\n",
    "\n",
    "    # Store results\n",
    "    true_label.extend(y_val)\n",
    "    pred_label.extend(y_pred)\n",
    "    fold_results.extend(y_scores)\n",
    "\n",
    "    # Accuracy\n",
    "    acc = accuracy_score(y_val, y_pred)\n",
    "    fold_accuracies.append(acc)\n",
    "    print(f'Fold {fold} Accuracy: {acc:.4f}')\n",
    "\n",
    "# Resource Monitoring End\n",
    "end_time_count = time.time()\n",
    "end_ram_count = process.memory_info().rss / 1024 / 1024  # in MB\n",
    "end_cpu_count = psutil.cpu_percent(interval=1)\n",
    "\n",
    "# Summary \n",
    "print(\"\\nOverall SVM Training Stats\")\n",
    "print(f\"Total Training Time: {end_time_count - start_time_count:.2f} seconds\")\n",
    "print(f\"Total RAM Usage Increase: {end_ram_count - start_ram_count:.2f} MB\")\n",
    "print(f\"CPU Usage (at final check): {end_cpu_count}%\")\n"
   ]
  },
  {
   "cell_type": "markdown",
   "metadata": {},
   "source": [
    "## Step 4: Model Evaluation  "
   ]
  },
  {
   "cell_type": "code",
   "execution_count": 8,
   "metadata": {},
   "outputs": [
    {
     "name": "stdout",
     "output_type": "stream",
     "text": [
      "\n",
      "Final SVM Cross-Validation Results:\n",
      "Accuracies from each fold: [0.9281624154086413, 0.9255596043727226, 0.9297241020301926, 0.9260801665799063, 0.925]\n",
      "Average Accuracy: 0.9269\n",
      "Standard Deviation: 0.0018\n"
     ]
    }
   ],
   "source": [
    "import numpy as np\n",
    "\n",
    "print(\"\\nFinal SVM Cross-Validation Results:\")\n",
    "print(f'Accuracies from each fold: {fold_accuracies}')\n",
    "print(f'Average Accuracy: {np.mean(fold_accuracies):.4f}')\n",
    "print(f'Standard Deviation: {np.std(fold_accuracies):.4f}')\n"
   ]
  },
  {
   "cell_type": "markdown",
   "metadata": {},
   "source": [
    "## Step 5: Visual Evaluation "
   ]
  },
  {
   "cell_type": "code",
   "execution_count": 9,
   "metadata": {},
   "outputs": [
    {
     "data": {
      "image/png": "[encoded data removed]",
      "text/plain": [
       "<Figure size 640x480 with 2 Axes>"
      ]
     },
     "metadata": {},
     "output_type": "display_data"
    },
    {
     "data": {
      "image/png": "[encoded data removed]",
      "text/plain": [
       "<Figure size 640x480 with 1 Axes>"
      ]
     },
     "metadata": {},
     "output_type": "display_data"
    },
    {
     "data": {
      "image/png": "[encoded data removed]",
      "text/plain": [
       "<Figure size 640x480 with 1 Axes>"
      ]
     },
     "metadata": {},
     "output_type": "display_data"
    }
   ],
   "source": [
    "import matplotlib.pyplot as plt\n",
    "from sklearn.metrics import (\n",
    "    confusion_matrix,\n",
    "    ConfusionMatrixDisplay,\n",
    "    roc_curve,\n",
    "    auc,\n",
    "    RocCurveDisplay,\n",
    "    precision_recall_curve,\n",
    "    PrecisionRecallDisplay,\n",
    ")\n",
    "\n",
    "# Confusion Matrix\n",
    "cm = confusion_matrix(true_label, pred_label)\n",
    "disp_cm = ConfusionMatrixDisplay(confusion_matrix=cm)\n",
    "disp_cm.plot(cmap='Blues')\n",
    "plt.title('Confusion Matrix (All Folds)')\n",
    "plt.grid(False)\n",
    "plt.show()\n",
    "\n",
    "# ROC Curve\n",
    "fpr, tpr, _ = roc_curve(true_label, pred_label)\n",
    "roc_auc = auc(fpr, tpr)\n",
    "RocCurveDisplay(fpr=fpr, tpr=tpr, roc_auc=roc_auc).plot()\n",
    "plt.title(f'ROC Curve (AUC = {roc_auc:.4f}) - All Folds')\n",
    "plt.grid(True)\n",
    "plt.show()\n",
    "\n",
    "# Precision-Recall Curve\n",
    "precision, recall, _ = precision_recall_curve(true_label, pred_label)\n",
    "PrecisionRecallDisplay(precision=precision, recall=recall).plot()\n",
    "plt.title('Precision-Recall Curve (All Folds)')\n",
    "plt.grid(True)\n",
    "plt.show()\n"
   ]
  },
  {
   "cell_type": "markdown",
   "metadata": {},
   "source": [
    "## saving the model as PDF"
   ]
  },
  {
   "cell_type": "code",
   "execution_count": 10,
   "metadata": {},
   "outputs": [
    {
     "data": {
      "text/plain": [
       "'d:\\\\Coding Projects\\\\Detection-of-SYN-Flood-Attacks-Using-Machine-Learning-and-Deep-Learning-Techniques-with-Feature-Base\\\\Amir Tavahin'"
      ]
     },
     "execution_count": 10,
     "metadata": {},
     "output_type": "execute_result"
    }
   ],
   "source": [
    "import os\n",
    "os.getcwd()"
   ]
  },
  {
   "cell_type": "code",
   "execution_count": 11,
   "metadata": {},
   "outputs": [
    {
     "name": "stderr",
     "output_type": "stream",
     "text": [
      "[NbConvertApp] Converting notebook d:\\\\Coding Projects\\\\Detection-of-SYN-Flood-Attacks-Using-Machine-Learning-and-Deep-Learning-Techniques-with-Feature-Base\\\\Amir Tavahin\\\\SVM.ipynb to webpdf\n",
      "[NbConvertApp] WARNING | Alternative text is missing on 3 image(s).\n",
      "[NbConvertApp] Building PDF\n",
      "[NbConvertApp] PDF successfully created\n",
      "[NbConvertApp] Writing 199733 bytes to d:\\Coding Projects\\Detection-of-SYN-Flood-Attacks-Using-Machine-Learning-and-Deep-Learning-Techniques-with-Feature-Base\\Amir Tavahin\\SVM.pdf\n"
     ]
    }
   ],
   "source": [
    "!jupyter nbconvert --to webpdf \"d:\\\\Coding Projects\\\\Detection-of-SYN-Flood-Attacks-Using-Machine-Learning-and-Deep-Learning-Techniques-with-Feature-Base\\\\Amir Tavahin\\\\SVM.ipynb\""
   ]
  }
 ],
 "metadata": {
  "kernelspec": {
   "display_name": "syn",
   "language": "python",
   "name": "python3"
  },
  "language_info": {
   "codemirror_mode": {
    "name": "ipython",
    "version": 3
   },
   "file_extension": ".py",
   "mimetype": "text/x-python",
   "name": "python",
   "nbconvert_exporter": "python",
   "pygments_lexer": "ipython3",
   "version": "3.11.9"
  }
 },
 "nbformat": 4,
 "nbformat_minor": 2
}
