{
 "cells": [
  {
   "cell_type": "markdown",
   "metadata": {},
   "source": [
    "## Machine learning Model\n",
    "\n",
    "* in this file we will be attempting to create a Machine Learning model that is able to identify and predict SYN flood from normal network communication."
   ]
  },
  {
   "cell_type": "markdown",
   "metadata": {},
   "source": [
    "### Model Pseudocode"
   ]
  },
  {
   "cell_type": "code",
   "execution_count": null,
   "metadata": {},
   "outputs": [],
   "source": [
    "# BEGIN\n",
    "\n",
    "# 1. Load dataset\n",
    "#    - Separate features (X) and labels (y)\n",
    "\n",
    "# 2. Set up 5-fold cross-validation\n",
    "#    - Use StratifiedKFold to maintain class balance\n",
    "\n",
    "# 3. Define SVM model with:\n",
    "#    - RBF kernel\n",
    "#    - C = 10.0\n",
    "#    - gamma = 'auto'\n",
    "#    - class_weight = 'balanced'\n",
    "\n",
    "# 4. For each fold:\n",
    "#    a. Split data into training and validation sets\n",
    "#    b. Train SVM on training set\n",
    "#    c. Predict on validation set\n",
    "#    d. Evaluate performance (e.g. accuracy)\n",
    "#    e. Save results\n",
    "\n",
    "# 5. Calculate and print average accuracy across all folds\n",
    "\n",
    "# END\n"
   ]
  },
  {
   "cell_type": "markdown",
   "metadata": {},
   "source": [
    "## Step1: Select and Load the Dataset"
   ]
  },
  {
   "cell_type": "code",
   "execution_count": 2,
   "metadata": {},
   "outputs": [
    {
     "name": "stdout",
     "output_type": "stream",
     "text": [
      "Features shape: (9604, 12)\n",
      "Labels shape: (9604,)\n"
     ]
    }
   ],
   "source": [
    "# Section 1: Load Dataset\n",
    "import pandas as pd\n",
    "\n",
    "# Load the preprocessed and normalized dataset\n",
    "df = pd.read_csv('D:\\Coding Projects\\Detection-of-SYN-Flood-Attacks-Using-Machine-Learning-and-Deep-Learning-Techniques-with-Feature-Base\\Data\\selected.csv')\n",
    "\n",
    "# Separate features and label\n",
    "X = df.drop('Label', axis=1)\n",
    "y = df['Label']\n",
    "\n",
    "# Check the shapes\n",
    "print(f'Features shape: {X.shape}')\n",
    "print(f'Labels shape: {y.shape}')"
   ]
  },
  {
   "cell_type": "markdown",
   "metadata": {},
   "source": [
    "## Step 2: K-Fold Cross-Validation Setup"
   ]
  },
  {
   "cell_type": "code",
   "execution_count": 3,
   "metadata": {},
   "outputs": [],
   "source": [
    "# Section 2: K-Fold Setup\n",
    "from sklearn.model_selection import KFold\n",
    "\n",
    "# Initialize 5-fold cross-validation\n",
    "kfold = KFold(n_splits=5, shuffle=True, random_state=42)\n"
   ]
  },
  {
   "cell_type": "markdown",
   "metadata": {},
   "source": [
    "## Step 3: Define SVM Model and Hyperparameters    "
   ]
  },
  {
   "cell_type": "code",
   "execution_count": null,
   "metadata": {},
   "outputs": [],
   "source": [
    "# Section 3: Model Definition and Hyperparameters (Extended)\n",
    "from sklearn.svm import SVC\n",
    "\n",
    "# # Define the SVM model with extended hyperparameters (using default values for now)\n",
    "# svm_model = SVC(\n",
    "#     C=1.0,              # Regularization parameter\n",
    "#     kernel='rbf',       # Kernel type: 'linear', 'poly', 'rbf', 'sigmoid', 'precomputed'\n",
    "#     gamma='scale',      # Kernel coefficient for 'rbf', 'poly', and 'sigmoid'\n",
    "#     shrinking=True,     # Whether to use the shrinking heuristic\n",
    "#     probability=False,  # Enable probability estimates (slower)\n",
    "#     tol=1e-3,           # Tolerance for stopping criterion\n",
    "#     cache_size=500,     # Size of the kernel cache (in MB)\n",
    "#     class_weight=None,  # Set the parameter for unbalanced classes\n",
    "#     decision_function_shape='ovr',  # 'ovo' or 'ovr'\n",
    "#     random_state=None   # Set for reproducibility\n",
    "# )\n",
    "\n",
    "\n",
    "svm_model = SVC(\n",
    "    C=10.0,               \n",
    "    kernel='rbf',         \n",
    "    gamma='auto',           \n",
    "    class_weight=None,    \n",
    "    probability=True,      \n",
    "    cache_size=500,\n",
    "    tol=1e-4,              \n",
    "    shrinking=True,\n",
    "    decision_function_shape='ovr',\n",
    "    random_state=42\n",
    ")\n"
   ]
  },
  {
   "cell_type": "markdown",
   "metadata": {},
   "source": [
    "## Step 4: Model Training with Cross-Validation"
   ]
  },
  {
   "cell_type": "code",
   "execution_count": 16,
   "metadata": {},
   "outputs": [
    {
     "name": "stdout",
     "output_type": "stream",
     "text": [
      "\n",
      "Training fold 1...\n",
      "Fold 1 Accuracy: 0.9323\n",
      "\n",
      "Training fold 2...\n",
      "Fold 2 Accuracy: 0.9261\n",
      "\n",
      "Training fold 3...\n",
      "Fold 3 Accuracy: 0.9282\n",
      "\n",
      "Training fold 4...\n",
      "Fold 4 Accuracy: 0.9271\n",
      "\n",
      "Training fold 5...\n",
      "Fold 5 Accuracy: 0.9286\n"
     ]
    }
   ],
   "source": [
    "# Section 4: Model Training with K-Fold\n",
    "from sklearn.metrics import accuracy_score\n",
    "\n",
    "fold_accuracies = []\n",
    "\n",
    "for fold, (train_idx, val_idx) in enumerate(kfold.split(X)):\n",
    "    print(f'\\nTraining fold {fold + 1}...')\n",
    "    X_train, X_val = X.iloc[train_idx], X.iloc[val_idx]\n",
    "    y_train, y_val = y.iloc[train_idx], y.iloc[val_idx]\n",
    "    \n",
    "    # Train model\n",
    "    svm_model.fit(X_train, y_train)\n",
    "    \n",
    "    # Predict on validation set\n",
    "    y_pred = svm_model.predict(X_val)\n",
    "    \n",
    "    # Calculate and store accuracy\n",
    "    acc = accuracy_score(y_val, y_pred)\n",
    "    fold_accuracies.append(acc)\n",
    "    print(f'Fold {fold + 1} Accuracy: {acc:.4f}')\n"
   ]
  },
  {
   "cell_type": "markdown",
   "metadata": {},
   "source": [
    "## Step 5: Model Evaluation  "
   ]
  },
  {
   "cell_type": "code",
   "execution_count": 11,
   "metadata": {},
   "outputs": [
    {
     "name": "stdout",
     "output_type": "stream",
     "text": [
      "\n",
      "Final SVM Cross-Validation Results:\n",
      "Accuracies from each fold: [0.9323269130661114, 0.9260801665799063, 0.9281624154086413, 0.9271212909942738, 0.9286458333333333]\n",
      "Average Accuracy: 0.9285\n",
      "Standard Deviation: 0.0021\n"
     ]
    }
   ],
   "source": [
    "# Section 5: Evaluation\n",
    "import numpy as np\n",
    "\n",
    "print(\"\\nFinal SVM Cross-Validation Results:\")\n",
    "print(f'Accuracies from each fold: {fold_accuracies}')\n",
    "print(f'Average Accuracy: {np.mean(fold_accuracies):.4f}')\n",
    "print(f'Standard Deviation: {np.std(fold_accuracies):.4f}')\n"
   ]
  },
  {
   "cell_type": "markdown",
   "metadata": {},
   "source": [
    "## Step 6: Visual Evaluation "
   ]
  },
  {
   "cell_type": "code",
   "execution_count": 18,
   "metadata": {},
   "outputs": [
    {
     "data": {
      "image/png": "[encoded data removed]",
      "text/plain": [
       "<Figure size 640x480 with 2 Axes>"
      ]
     },
     "metadata": {},
     "output_type": "display_data"
    },
    {
     "data": {
      "image/png": "[encoded data removed]",
      "text/plain": [
       "<Figure size 640x480 with 1 Axes>"
      ]
     },
     "metadata": {},
     "output_type": "display_data"
    },
    {
     "data": {
      "image/png": "[encoded data removed]",
      "text/plain": [
       "<Figure size 640x480 with 1 Axes>"
      ]
     },
     "metadata": {},
     "output_type": "display_data"
    },
    {
     "name": "stdout",
     "output_type": "stream",
     "text": [
      "F1 Score (Full Dataset): 1.0000\n"
     ]
    }
   ],
   "source": [
    "import matplotlib.pyplot as plt\n",
    "from sklearn.metrics import (\n",
    "    confusion_matrix,\n",
    "    ConfusionMatrixDisplay,\n",
    "    roc_curve,\n",
    "    auc,\n",
    "    RocCurveDisplay,\n",
    "    precision_recall_curve,\n",
    "    PrecisionRecallDisplay,\n",
    "    f1_score\n",
    ")\n",
    "\n",
    "# Re-train model on full dataset (optional, or use final fold)\n",
    "svm_model.fit(X, y)\n",
    "\n",
    "# Predict probabilities for ROC and PR curves\n",
    "y_scores = svm_model.decision_function(X)  # Use decision_function for SVMs\n",
    "y_pred = svm_model.predict(X)\n",
    "\n",
    "# Confusion Matrix\n",
    "cm = confusion_matrix(y, y_pred)\n",
    "disp_cm = ConfusionMatrixDisplay(confusion_matrix=cm)\n",
    "disp_cm.plot(cmap='Blues')\n",
    "plt.title('Confusion Matrix')\n",
    "plt.grid(False)\n",
    "plt.show()\n",
    "\n",
    "# ROC Curve\n",
    "fpr, tpr, _ = roc_curve(y, y_scores)\n",
    "roc_auc = auc(fpr, tpr)\n",
    "RocCurveDisplay(fpr=fpr, tpr=tpr, roc_auc=roc_auc).plot()\n",
    "plt.title(f'ROC Curve (AUC = {roc_auc:.4f})')\n",
    "plt.grid(True)\n",
    "plt.show()\n",
    "\n",
    "# Precision-Recall Curve\n",
    "precision, recall, _ = precision_recall_curve(y, y_scores)\n",
    "PrecisionRecallDisplay(precision=precision, recall=recall).plot()\n",
    "plt.title('Precision-Recall Curve')\n",
    "plt.grid(True)\n",
    "plt.show()\n",
    "\n",
    "# F1\n",
    "f1 = f1_score(y, y_pred)\n",
    "print(f\"F1 Score (Full Dataset): {f1:.4f}\")\n"
   ]
  }
 ],
 "metadata": {
  "kernelspec": {
   "display_name": "syn",
   "language": "python",
   "name": "python3"
  },
  "language_info": {
   "codemirror_mode": {
    "name": "ipython",
    "version": 3
   },
   "file_extension": ".py",
   "mimetype": "text/x-python",
   "name": "python",
   "nbconvert_exporter": "python",
   "pygments_lexer": "ipython3",
   "version": "3.11.9"
  }
 },
 "nbformat": 4,
 "nbformat_minor": 2
}
